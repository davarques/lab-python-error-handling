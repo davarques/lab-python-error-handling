{
  "nbformat": 4,
  "nbformat_minor": 0,
  "metadata": {
    "colab": {
      "provenance": []
    },
    "kernelspec": {
      "name": "python3",
      "display_name": "Python 3"
    },
    "language_info": {
      "name": "python"
    }
  },
  "cells": [
    {
      "cell_type": "markdown",
      "source": [
        "#Lab | Error Handling\n",
        "##Exercise: Error Handling for Managing Customer Orders"
      ],
      "metadata": {
        "id": "JD9UaS35XEmg"
      }
    },
    {
      "cell_type": "code",
      "source": [
        "# Producst list\n",
        "products = [\"t-shirt\", \"mug\", \"hat\", \"book\"]"
      ],
      "metadata": {
        "id": "QfGtdE4pZdeB"
      },
      "execution_count": 1,
      "outputs": []
    },
    {
      "cell_type": "code",
      "source": [
        "# Add a new function \"calculate_total_price\" of the customer order, For each product in customer_orders, prompt the user to enter the price of that product."
      ],
      "metadata": {
        "id": "eYel7_42ZyCo"
      },
      "execution_count": 2,
      "outputs": []
    },
    {
      "cell_type": "code",
      "source": [
        "# Empty dictionary for customer order\n",
        "customer_order = {}"
      ],
      "metadata": {
        "id": "XDWyBfbgaQdh"
      },
      "execution_count": 3,
      "outputs": []
    },
    {
      "cell_type": "code",
      "source": [
        "# Defining the \"calculate_total_price\" function:\n",
        "\n",
        "def calculate_total_price(products):\n",
        "    customer_order = {}\n",
        "\n",
        "    for product in products:\n",
        "        ask = int(input(f\"What's the price of {product} (in euros): \"))\n",
        "        customer_order[product] = ask\n",
        "\n",
        "    result = sum(customer_order.values())\n",
        "    print(f\"\\nThe total price of your customer order is: {result}\")"
      ],
      "metadata": {
        "id": "ATOM6VKodWRY"
      },
      "execution_count": 6,
      "outputs": []
    },
    {
      "cell_type": "code",
      "source": [
        "# Testing the 'calculate_total_price' function:\n",
        "\n",
        "calculate_total_price(products)"
      ],
      "metadata": {
        "id": "Z_rXaKwxeNKA",
        "colab": {
          "base_uri": "https://localhost:8080/"
        },
        "outputId": "4b36b76a-419b-406d-deb9-718219810ca6"
      },
      "execution_count": 7,
      "outputs": [
        {
          "output_type": "stream",
          "name": "stdout",
          "text": [
            "What's the price of t-shirt (in euros): 25\n",
            "What's the price of mug (in euros): 9\n",
            "What's the price of hat (in euros): 16\n",
            "What's the price of book (in euros): 23\n",
            "\n",
            "The total price of your customer order is: 73\n"
          ]
        }
      ]
    },
    {
      "cell_type": "code",
      "source": [
        "#Lab Task 2: Modify the calculate_total_price function to include error handling.\n",
        "\n",
        "def calculate_total_price(products):\n",
        "    customer_order = {}\n",
        "\n",
        "    for product in products:\n",
        "      while True:\n",
        "        try:\n",
        "          ask = int(input(f\"\\nWhat's the price of {product} (in euros): \"))\n",
        "          if ask <= 0:\n",
        "            raise ValueError(\"\\nInvalid price! It cannot be 0 or negative\")\n",
        "        except ValueError:\n",
        "            print(\"Invalid price! It cannot be 0 or negative\")\n",
        "        else:\n",
        "          print(\"\\nPrice recorded, thanks\")\n",
        "          customer_order[product] = ask\n",
        "          break\n",
        "\n",
        "    result = sum(customer_order.values())\n",
        "    print(f\"\\nThe total price of your customer order is: {result}\")"
      ],
      "metadata": {
        "id": "TEduaD_slE2V"
      },
      "execution_count": 12,
      "outputs": []
    },
    {
      "cell_type": "code",
      "source": [
        "# Testing errors in \"calculate_total_price\" order function:\n",
        "\n",
        "calculate_total_price(products)"
      ],
      "metadata": {
        "colab": {
          "base_uri": "https://localhost:8080/"
        },
        "id": "4WJQMWcVmg0m",
        "outputId": "ef8806c9-94ab-4165-b57f-6812b799a02f"
      },
      "execution_count": 13,
      "outputs": [
        {
          "output_type": "stream",
          "name": "stdout",
          "text": [
            "\n",
            "What's the price of t-shirt (in euros): 25\n",
            "\n",
            "Price recorded, thanks\n",
            "\n",
            "What's the price of mug (in euros): -9\n",
            "Invalid price! It cannot be 0 or negative\n",
            "\n",
            "What's the price of mug (in euros): 23\n",
            "\n",
            "Price recorded, thanks\n",
            "\n",
            "What's the price of hat (in euros): 0\n",
            "Invalid price! It cannot be 0 or negative\n",
            "\n",
            "What's the price of hat (in euros): 14\n",
            "\n",
            "Price recorded, thanks\n",
            "\n",
            "What's the price of book (in euros): 8\n",
            "\n",
            "Price recorded, thanks\n",
            "\n",
            "The total price of your customer order is: 70\n"
          ]
        }
      ]
    },
    {
      "cell_type": "code",
      "source": [
        "# Defining a new function \"get_customer_orders\":\n",
        "\n",
        "def get_customer_orders(products):\n",
        "  customer_inventory = {}\n",
        "\n",
        "  for product in products:\n",
        "    while True:\n",
        "      try:\n",
        "         choice = input(\"\\nWhat product do you wnat from the Product list?: \")\n",
        "         if choice not in products:\n",
        "          raise ValueError(\"\\nSorry, we don't have that product, please enter a product form teh list\")\n",
        "      except ValueError:\n",
        "        print(\"\\nSorry, we don't have that product, please enter a product form teh list\")\n",
        "      else:\n",
        "        print(\"\\nThanks, product added!\")\n",
        "        customer_inventory[product] = choice\n",
        "        break\n",
        "\n",
        "  print(f\"Here is your list of products ordered: {customer_inventory}\")"
      ],
      "metadata": {
        "id": "dJmQRsnHjODy"
      },
      "execution_count": 14,
      "outputs": []
    },
    {
      "cell_type": "code",
      "source": [
        "# Testing errors in \"get_customer_orders\" function:\n",
        "\n",
        "get_customer_orders(products)"
      ],
      "metadata": {
        "id": "6woy_tgHb9w-",
        "colab": {
          "base_uri": "https://localhost:8080/"
        },
        "outputId": "bfe66983-ab41-46a8-fa08-1e486f6cf59f"
      },
      "execution_count": 15,
      "outputs": [
        {
          "output_type": "stream",
          "name": "stdout",
          "text": [
            "\n",
            "What product do you wnat from the Product list?: hat\n",
            "\n",
            "Thanks, product added!\n",
            "\n",
            "What product do you wnat from the Product list?: bike\n",
            "\n",
            "Sorry, we don't have that product, please enter a product form teh list\n",
            "\n",
            "What product do you wnat from the Product list?: mug\n",
            "\n",
            "Thanks, product added!\n",
            "\n",
            "What product do you wnat from the Product list?: t-shirt\n",
            "\n",
            "Thanks, product added!\n",
            "\n",
            "What product do you wnat from the Product list?: boat\n",
            "\n",
            "Sorry, we don't have that product, please enter a product form teh list\n",
            "\n",
            "What product do you wnat from the Product list?: book\n",
            "\n",
            "Thanks, product added!\n",
            "Here is your list of products ordered: {'t-shirt': 'hat', 'mug': 'mug', 'hat': 't-shirt', 'book': 'book'}\n"
          ]
        }
      ]
    }
  ]
}