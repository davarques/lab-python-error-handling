{
  "nbformat": 4,
  "nbformat_minor": 0,
  "metadata": {
    "colab": {
      "provenance": []
    },
    "kernelspec": {
      "name": "python3",
      "display_name": "Python 3"
    },
    "language_info": {
      "name": "python"
    }
  },
  "cells": [
    {
      "cell_type": "markdown",
      "source": [
        "#Lab | Error Handling\n",
        "##Exercise: Error Handling for Managing Customer Orders"
      ],
      "metadata": {
        "id": "JD9UaS35XEmg"
      }
    },
    {
      "cell_type": "code",
      "source": [
        "# Producst list\n",
        "products = [\"t-shirt\", \"mug\", \"hat\", \"book\"]"
      ],
      "metadata": {
        "id": "QfGtdE4pZdeB"
      },
      "execution_count": 1,
      "outputs": []
    },
    {
      "cell_type": "code",
      "source": [
        "# Add a new function \"calculate_total_price\" of the customer order, For each product in customer_orders, prompt the user to enter the price of that product."
      ],
      "metadata": {
        "id": "eYel7_42ZyCo"
      },
      "execution_count": 2,
      "outputs": []
    },
    {
      "cell_type": "code",
      "source": [
        "# Empty dictionary for customer order\n",
        "customer_order = {}"
      ],
      "metadata": {
        "id": "XDWyBfbgaQdh"
      },
      "execution_count": 3,
      "outputs": []
    },
    {
      "cell_type": "code",
      "source": [
        "# Defining the \"calculate_total_price\" function:\n",
        "\n",
        "def calculate_total_price(products):\n",
        "    customer_order = {}\n",
        "\n",
        "    for product in products:\n",
        "        ask = int(input(f\"What's the price of {product} (in euros): \"))\n",
        "        customer_order[product] = ask\n",
        "\n",
        "    result = sum(customer_order.values())\n",
        "    print(f\"The total price of your customer order is: {result}\")"
      ],
      "metadata": {
        "id": "ATOM6VKodWRY"
      },
      "execution_count": 5,
      "outputs": []
    },
    {
      "cell_type": "code",
      "source": [
        "# Testing the 'calculate_total_price' function:\n",
        "\n",
        "calculate_total_price(products)"
      ],
      "metadata": {
        "id": "Z_rXaKwxeNKA"
      },
      "execution_count": null,
      "outputs": []
    },
    {
      "cell_type": "code",
      "source": [
        "#Lab Task 2: Modify the calculate_total_price function to include error handling.\n",
        "\n",
        "def calculate_total_price(products):\n",
        "    customer_order = {}\n",
        "\n",
        "    for product in products:\n",
        "      valid_price = False\n",
        "      while not valid_price:\n",
        "        try:\n",
        "          ask = int(input(f\"\\nWhat's the price of {product} (in euros): \"))\n",
        "          if ask <= 0:\n",
        "            raise ValueError(\"Invalid price! It cannot be 0 or negative\")\n",
        "          else:\n",
        "            valid_price = True\n",
        "            print(\"\\nPrice recorded, thanks\")\n",
        "        except ValueError as error:\n",
        "          print(error)\n",
        "\n",
        "      customer_order[product] = ask\n",
        "\n",
        "    result = sum(customer_order.values())\n",
        "    print(f\"The total price of your customer order is: {result}\")"
      ],
      "metadata": {
        "id": "tLtmY-raWsJ3"
      },
      "execution_count": null,
      "outputs": []
    },
    {
      "cell_type": "code",
      "source": [
        "# Testing errors in \"calculate_total_price\" order function:\n",
        "\n",
        "calculate_total_price(products)"
      ],
      "metadata": {
        "colab": {
          "base_uri": "https://localhost:8080/"
        },
        "id": "UlngcvxdiVqL",
        "outputId": "e8d81b4a-ee8c-4ca5-9282-2cee26090c00"
      },
      "execution_count": null,
      "outputs": [
        {
          "output_type": "stream",
          "name": "stdout",
          "text": [
            "What's the price of t-shirt (in euros): 34\n",
            "\n",
            "Price recorded, thanks\n",
            "What's the price of mug (in euros): 23\n",
            "\n",
            "Price recorded, thanks\n",
            "What's the price of hat (in euros): 0\n",
            "Invalid price! It cannot be 0 or negative\n",
            "What's the price of hat (in euros): -9\n",
            "Invalid price! It cannot be 0 or negative\n",
            "What's the price of hat (in euros): 12\n",
            "\n",
            "Price recorded, thanks\n",
            "What's the price of book (in euros): 17\n",
            "\n",
            "Price recorded, thanks\n",
            "The total price of your customer order is: 86\n"
          ]
        }
      ]
    },
    {
      "cell_type": "code",
      "source": [
        "# Defining a new function \"get_customer_orders\":\n",
        "\n",
        "def get_customer_orders(products):\n",
        "  customer_inventory = {}\n",
        "\n",
        "  for product in products:\n",
        "    valid_product = False\n",
        "    while not valid_product:\n",
        "      try:\n",
        "        choice = input(\"\\nWhat product do you wnat from the Product list?: \")\n",
        "        if choice not in products:\n",
        "          raise ValueError(\"\\nSorry, we don't have that product, please enter a product form teh list\")\n",
        "        else:\n",
        "          valid_product = True\n",
        "          print(\"\\nThanks, product added!\")\n",
        "      except ValueError as error:\n",
        "        print(error)\n",
        "\n",
        "  customer_inventory[product] = choice\n",
        "\n",
        "  print(f\"Here is your list of products ordered: {customer_inventory}\")"
      ],
      "metadata": {
        "id": "dJmQRsnHjODy"
      },
      "execution_count": 4,
      "outputs": []
    },
    {
      "cell_type": "code",
      "source": [
        "# Testing errors in \"get_customer_orders\" function:\n",
        "\n",
        "get_customer_orders(products)"
      ],
      "metadata": {
        "id": "6woy_tgHb9w-"
      },
      "execution_count": null,
      "outputs": []
    }
  ]
}